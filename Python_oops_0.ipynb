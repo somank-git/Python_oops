{
  "nbformat": 4,
  "nbformat_minor": 0,
  "metadata": {
    "colab": {
      "provenance": []
    },
    "kernelspec": {
      "name": "python3",
      "display_name": "Python 3"
    },
    "language_info": {
      "name": "python"
    }
  },
  "cells": [
    {
      "cell_type": "markdown",
      "source": [
        "1 What is Object-Oriented Programming (OOP)?\n",
        "\n",
        "-> Object-oriented programming (OOP) is a computer programming model that organizes software design around data, or objects, rather than functions and logic"
      ],
      "metadata": {
        "id": "CgCC0ptaMEIO"
      }
    },
    {
      "cell_type": "markdown",
      "source": [
        "2 What is a class in OOP?\n",
        "\n",
        "-> A class is a template that defines the methods and variables for a specific type of object:"
      ],
      "metadata": {
        "id": "a63y_0tHOfrS"
      }
    },
    {
      "cell_type": "markdown",
      "source": [
        "3 What is an object in OOP?\n",
        "\n",
        "-> A object is a fundamental unit of code that is a data structure with methods and fields"
      ],
      "metadata": {
        "id": "mwKO8gXVPAIi"
      }
    },
    {
      "cell_type": "markdown",
      "source": [
        "4 What is the difference between abstraction and encapsulation?\n",
        "\n",
        "-> Abstraction:-\n",
        "Hides complex implementation details to simplify complex systems and make code more readable. Abstraction focuses on the essential features of an object or system, rather than the underlying technicalities.\n",
        "\n",
        "Encapsulation:-\n",
        "Bundles data and methods within a class, and controls access to them. Encapsulation protects data integrity by preventing unauthorized access and modification to an object's data and methods."
      ],
      "metadata": {
        "id": "pF9XrVQePsqu"
      }
    },
    {
      "cell_type": "markdown",
      "source": [
        "5 What are dunder methods in Python?\n",
        "\n",
        "-> Dunder methods, also known as magic methods or special methods, are predefined methods in Python that add special functionality to classes and objects"
      ],
      "metadata": {
        "id": "Ra8Q0H2PQItF"
      }
    },
    {
      "cell_type": "markdown",
      "source": [
        "6 Explain the concept of inheritance in OOP\n",
        "\n",
        "-> In object-oriented programming (OOP), inheritance is a fundamental concept that allows a class to inherit properties and behaviors from another class"
      ],
      "metadata": {
        "id": "T0wsqf_4RLAj"
      }
    },
    {
      "cell_type": "markdown",
      "source": [
        "7 What is polymorphism in OOP?\n",
        "\n",
        "-> Polymorphism is a feature of object-oriented programming languages that allows a specific routine to use variables of different types at different times. Polymorphism in programming gives a program the ability to redefine methods for derived classes."
      ],
      "metadata": {
        "id": "g_QOtT_uRita"
      }
    },
    {
      "cell_type": "markdown",
      "source": [
        "8 How is encapsulation achieved in Python?\n",
        "\n",
        "-> encapsulation is achieved by using access modifiers to limit access to a class's variables and methods"
      ],
      "metadata": {
        "id": "4Jk6tY5qR29h"
      }
    },
    {
      "cell_type": "markdown",
      "source": [
        "9 What is a constructor in Python?\n",
        "\n",
        "-> Constructors in Python is a special class method for creating and initializing an object instance at that class."
      ],
      "metadata": {
        "id": "xsw9z2VySP03"
      }
    },
    {
      "cell_type": "markdown",
      "source": [
        "10 What are class and static methods in Python?\n",
        "\n",
        "-> In Python, class methods and static methods are both functions within a class, but they differ in how they are bound to the class and what they can access and modify"
      ],
      "metadata": {
        "id": "hZfiKAoRSsPm"
      }
    },
    {
      "cell_type": "markdown",
      "source": [
        "11 What is method overloading in Python?\n",
        "\n",
        "-> Method overloading is a concept in Python that allows a single function to operate with different input types or parameters"
      ],
      "metadata": {
        "id": "nu_7qwUHTGSQ"
      }
    },
    {
      "cell_type": "markdown",
      "source": [
        "12 What is method overriding in OOP?\n",
        "\n",
        "-> Method overriding is a feature in object-oriented programming (OOP) that allows a subclass to replace a method in its superclass with its own implementation."
      ],
      "metadata": {
        "id": "WM2cKaf8Td2Q"
      }
    },
    {
      "cell_type": "markdown",
      "source": [
        "13 What is a property decorator in Python?\n",
        "\n",
        "-> The Python property decorator makes attributes in a class act like read-only properties."
      ],
      "metadata": {
        "id": "eW66xHNqa9cN"
      }
    },
    {
      "cell_type": "markdown",
      "source": [
        "14 Why is polymorphism important in OOP\n",
        "\n",
        "-> Polymorphism is an important feature of object-oriented programming (OOP) because it allows for code reusability, flexibility, and extensibility"
      ],
      "metadata": {
        "id": "yoc6vtVnbUFY"
      }
    },
    {
      "cell_type": "markdown",
      "source": [
        "15 What is an abstract class in Python?\n",
        "\n",
        "-> In Python, an abstract class is a class that cannot be instantiated on its own and is designed to be a blueprint for other classes."
      ],
      "metadata": {
        "id": "D6xWx5hHbprN"
      }
    },
    {
      "cell_type": "markdown",
      "source": [
        "16 What are the advantages of OOP?\n",
        "\n",
        "-> Advantages of OOP:-\n",
        " Re-use of code,\n",
        " Ease of comprehension,\n",
        " Closely represent the generic application concept and processes,\n",
        " More near to real-world model,\n",
        " Ease of fabrication and maintenance,\n",
        " Easy redesign and extension"
      ],
      "metadata": {
        "id": "uMPn3nm0cBCY"
      }
    },
    {
      "cell_type": "markdown",
      "source": [
        "17 What is the difference between a class variable and an instance variable?\n",
        "\n",
        "-> The main difference between a class variable and an instance variable is that class variables are shared by all instances of a class, while instance variables are unique to each instance"
      ],
      "metadata": {
        "id": "xiK-N1KTllfl"
      }
    },
    {
      "cell_type": "markdown",
      "source": [
        "18 What is multiple inheritance in Python?\n",
        "\n",
        "-> Multiple inheritance is a feature in Python that allows a class to inherit properties and methods from more than one parent class"
      ],
      "metadata": {
        "id": "y2saEpEbmcrd"
      }
    },
    {
      "cell_type": "markdown",
      "source": [
        "19 Explain the purpose of ‘’__str__’ and ‘__repr__’ ‘ methods in Python?\n",
        "\n",
        "-> In Python, the __str__ and __repr__ methods are used to create string representations of objects\n",
        "\n",
        "_str_ :-\n",
        "Returns a human-readable, informal string representation of an object. This method is used for printing objects for users. The __str__ method is called by the built-in print(), str(), and format() function\n",
        "\n",
        "_repr_ :-\n",
        "Returns a more information-rich, official string representation of an object. This method is used for debugging, logging, and object inspection. The __repr__ method is called by the built-in repr() function."
      ],
      "metadata": {
        "id": "BaZVIq1lmydn"
      }
    },
    {
      "cell_type": "markdown",
      "source": [
        "20 What is the significance of the ‘super()’ function in Python?\n",
        "\n",
        "-> The super() function in Python is a built-in function that allows a child class to access the methods and properties of its parent class. It is useful in object-oriented programming when working with inheritance."
      ],
      "metadata": {
        "id": "woDhAyzAn8LQ"
      }
    },
    {
      "cell_type": "markdown",
      "source": [
        "21 What is the significance of the __del__ method in Python?\n",
        "\n",
        "-> The del method in Python, also known as a destructor method, is called when an object is about to be destroyed. It's used to perform cleanup, release resources, or other \"finalization\" actions"
      ],
      "metadata": {
        "id": "O1q8gpRAoaHf"
      }
    },
    {
      "cell_type": "markdown",
      "source": [
        "22 What is the difference between @staticmethod and @classmethod in Python?\n",
        "\n",
        "-> The main difference between @classmethod and @staticmethod in Python is that @classmethod methods can access and modify the class state, while @staticmethod methods cannot"
      ],
      "metadata": {
        "id": "lpSjoelspNqR"
      }
    },
    {
      "cell_type": "markdown",
      "source": [
        "23 How does polymorphism work in Python with inheritance?\n",
        "\n",
        "-> Polymorphism in Python with inheritance works by allowing a child class to have a method with the same name as a parent class method, and then redefining that method in the child class"
      ],
      "metadata": {
        "id": "7jhwe1vuphMD"
      }
    },
    {
      "cell_type": "markdown",
      "source": [
        "24 What is method chaining in Python OOP?\n",
        "\n",
        "-> In Python object-oriented programming (OOP), method chaining is a technique that involves calling multiple methods on the same object in a single line of code"
      ],
      "metadata": {
        "id": "nQxQa5zrq1fF"
      }
    },
    {
      "cell_type": "markdown",
      "source": [
        "25 What is the purpose of the __call__ method in Python?\n",
        "\n",
        "-> The purpose of the __call__ method in Python is to allow programmers to write classes that behave like functions"
      ],
      "metadata": {
        "id": "frUGRWeMrcmq"
      }
    },
    {
      "cell_type": "markdown",
      "source": [
        "#                 PRACTICAL QUESTION"
      ],
      "metadata": {
        "id": "gWbv4yCwrmo_"
      }
    },
    {
      "cell_type": "markdown",
      "source": [
        "1 Create a parent class Animal with a method speak() that prints a generic message. Create a child class Dog\n",
        "that overrides the speak() method to print \"Bark!\"."
      ],
      "metadata": {
        "id": "_cl1Hcn2sFwm"
      }
    },
    {
      "cell_type": "code",
      "source": [],
      "metadata": {
        "id": "m2ElYhcZsRMk"
      },
      "execution_count": null,
      "outputs": []
    },
    {
      "cell_type": "markdown",
      "source": [
        "2 Write a program to create an abstract class Shape with a method area(). Derive classes Circle and Rectangle\n",
        "from it and implement the area() method in both."
      ],
      "metadata": {
        "id": "ZCyieDDHwbUp"
      }
    },
    {
      "source": [
        "from abc import ABC, abstractmethod\n",
        "\n",
        "class shape(ABC):\n",
        "    @abstractmethod\n",
        "    def area(self):\n",
        "        pass\n",
        "\n",
        "    @abstractmethod\n",
        "    def perimeter(self):\n",
        "        pass\n",
        "\n",
        "class circle(shape):\n",
        "    def __init__(self, radius): # Corrected typo: def_init_ to __init__\n",
        "        self.radius = radius\n",
        "\n",
        "    def area(self):\n",
        "        return 3.14*self.radius**2\n",
        "from abc import ABC, abstractmethod\n",
        "\n",
        "class shape(ABC):\n",
        "    @abstractmethod\n",
        "    def area(self):\n",
        "        pass\n",
        "\n",
        "    @abstractmethod\n",
        "    def perimeter(self):\n",
        "        pass\n",
        "\n",
        "class circle(shape):\n",
        "    def __init__(self, radius): # Corrected typo: def_init_ to __init__\n",
        "        self.radius = radius\n",
        "\n",
        "    def area(self):\n",
        "        return 3.14*self.radius**2\n",
        "\n",
        "    def perimeter(self):\n",
        "        return 2*3.14*self.radius"
      ],
      "cell_type": "code",
      "metadata": {
        "id": "11b0AJfgCVG1"
      },
      "execution_count": null,
      "outputs": []
    },
    {
      "cell_type": "markdown",
      "source": [
        "3 Implement  a multi-level inheritance scenario where a class vehical has an attribute type. Derive a class car and further derive a class electricCar that adds a battery attribute"
      ],
      "metadata": {
        "id": "X8VUzwlACpmR"
      }
    },
    {
      "cell_type": "code",
      "source": [
        "class vahicle:\n",
        "    def __init__(self, vehicle_type):\n",
        "      self.type = vehicle_type\n",
        "\n",
        "class car(vahicle):\n",
        "  def __init__(self, vehicle_type, car_type):\n",
        "    super().__init__(vehicle_type)\n",
        "    self.car_type = car_type\n",
        "\n",
        "class electricCar(car):\n",
        "  def __init__(self, vehicle_type, car_type, battery_type):\n",
        "    super().__init__(vehicle_type, car_type)\n",
        "    self.battery_type = battery_type\n",
        "class vahicle:\n",
        "    def __init__(self, vehicle_type):\n",
        "      self.type = vehicle_type\n",
        "\n",
        "class car(vahicle):\n",
        "  def __init__(self, vehicle_type, car_type):\n",
        "    super().__init__(vehicle_type)\n",
        "    self.car_type = car_type\n",
        "\n",
        "class electricCar(car):\n",
        "  def __init__(self, vehicle_type, car_type, battery_type):\n",
        "    super().__init__(vehicle_type, car_type)\n",
        "    self.battery_type = battery_type\n",
        "\n",
        "class car(vahicle):\n",
        "  def __init__(self, vehicle_type, car_type):\n",
        "    super().__init__(vehicle_type)\n",
        "    self.car_type = car_type\n",
        "\n",
        "class electricCar(car):\n",
        "  def __init__(self, vehicle_type, car_type, battery_type):\n",
        "    super().__init__(vehicle_type, car_type)\n",
        "class vahicle:\n",
        "    def __init__(self, vehicle_type):\n",
        "      self.type = vehicle_type\n",
        "\n",
        "class car(vahicle):\n",
        "  def __init__(self, vehicle_type, car_type):\n",
        "    super().__init__(vehicle_type)\n",
        "    self.car_type = car_type\n",
        "\n",
        "class electricCar(car):\n",
        "  def __init__(self, vehicle_type, car_type, battery_type):\n",
        "    super().__init__(vehicle_type, car_type)\n",
        "    self.battery_type = battery_type\n",
        "class vahicle:\n",
        "    def __init__(self, vehicle_type):\n",
        "      self.type = vehicle_type\n",
        "\n",
        "class car(vahicle):\n",
        "  def __init__(self, vehicle_type, car_type):\n",
        "    super().__init__(vehicle_type)\n",
        "    self.car_type = car_type\n",
        "\n",
        "class electricCar(car):\n",
        "  def __init__(self, vehicle_type, car_type, battery_type):\n",
        "    super().__init__(vehicle_type, car_type)\n",
        "    self.battery_type = battery_type\n",
        "\n",
        "class car(vahicle):\n",
        "  def __init__(self, vehicle_type, car_type):\n",
        "    super().__init__(vehicle_type)\n",
        "    self.car_type = car_type\n",
        "\n",
        "class electricCar(car):\n",
        "  def __init__(self, vehicle_type, car_type, battery_type):\n",
        "    super().__init__(vehicle_type, car_type)\n",
        "    self.battery_type = battery_type\n",
        "\n",
        "class electricCar(car):\n",
        "  def __init__(self, vehical_type, car_type, battery_type):\n",
        "    super().__init__(vehical_type, car_type)\n",
        "    self.battery_type = battery_type\n",
        "\n",
        "    self.battery_type = battery_type\n"
      ],
      "metadata": {
        "id": "MOdTmNZzElRD"
      },
      "execution_count": null,
      "outputs": []
    },
    {
      "cell_type": "markdown",
      "source": [
        "5 Write a program to demonstrate encapsulation by creating a class BankAccount with private attributes balance and methods to deposit, withdraw, and check balance"
      ],
      "metadata": {
        "id": "n95fIGWLNJHe"
      }
    },
    {
      "source": [
        "from typing_extensions import Self\n",
        "\n",
        "\n",
        "class BankAccount:\n",
        "    def __init__(self, account_number, balance):\n",
        "        self._account_number = account_number\n",
        "        self._balance = balance\n",
        "\n",
        "    def deposit(self, amount):\n",
        "        self._balance += amount\n",
        "\n",
        "    def withdraw(self, amount):\n",
        "        if amount <= self._balance:\n",
        "            self._balance -= amount\n",
        "        else:\n",
        "            print(\"Insufficient balance\")\n",
        "\n",
        "    def get_balance(self):\n",
        "        return self._balance"
      ],
      "cell_type": "code",
      "metadata": {
        "id": "rVjMMRKAQ6jB"
      },
      "execution_count": null,
      "outputs": []
    },
    {
      "cell_type": "markdown",
      "source": [
        "6 Demonstrate runtime polymorphism using a method play() in a base class instrument.Derive classes Guitar and piano that implement their own version of play()\n"
      ],
      "metadata": {
        "id": "RcdesvRWRBA3"
      }
    },
    {
      "cell_type": "code",
      "source": [
        "class Instrument:\n",
        "    def play(self):\n",
        "      print(\"Instrument is playing\")\n",
        "\n",
        "class guiter(Instrument):\n",
        "    def play(self):\n",
        "      print(\"Guiter is playing\")\n",
        "\n",
        "class piano(Instrument):\n",
        "    def play(self):\n",
        "      print(\"piano is playing\")"
      ],
      "metadata": {
        "id": "aegAhek8SFR1"
      },
      "execution_count": null,
      "outputs": []
    },
    {
      "cell_type": "markdown",
      "source": [
        "7 create a class MathOperations with a class method odd_number () to add two number and a static method subtract_numbers() to substract two numbers"
      ],
      "metadata": {
        "id": "W-rwQtKlS--X"
      }
    },
    {
      "cell_type": "code",
      "source": [
        "class MathOperation:\n",
        "    @classmethod\n",
        "    def add_numbers(cls, a, b):\n",
        "        return a+b\n",
        "\n",
        "    @staticmethod\n",
        "    def subtract_numbers(a, b):\n",
        "        return a-b"
      ],
      "metadata": {
        "id": "_lkD8IGZS-Rb"
      },
      "execution_count": null,
      "outputs": []
    },
    {
      "cell_type": "markdown",
      "source": [
        "8 Implement a class person with a class method to count the total number of person created"
      ],
      "metadata": {
        "id": "5-aJ0fAfVKy5"
      }
    },
    {
      "cell_type": "code",
      "source": [
        "class Emp:\n",
        "    count = 0\n",
        "    def __init__(self):\n",
        "        Emp.count +=1\n",
        "        print(Emp.count)\n"
      ],
      "metadata": {
        "id": "8dKjMUDaRt-1"
      },
      "execution_count": null,
      "outputs": []
    },
    {
      "source": [
        "class person:\n",
        "    \"\"\"A class to represent a person\"\"\"\n",
        "    count = 0\n",
        "    def __init__(self,name):\n",
        "        self.name = name\n",
        "        person.count += 1\n",
        "    @classmethod\n",
        "    def get_count(cls):\n",
        "        return person.count\n",
        "    # Remove or comment out the invalid code:\n",
        "    #def__init__(self,name)  # This is the cause of the NameError. It's not valid syntax.\n",
        "    #self.name=name\n",
        "    # There's already a __init__ method above. If you need to modify the object after creation, you could add a separate method for that."
      ],
      "cell_type": "code",
      "metadata": {
        "id": "gaX9kEHAL6_6"
      },
      "execution_count": null,
      "outputs": []
    },
    {
      "cell_type": "markdown",
      "source": [
        "9 Write a class fraction with attributes numerator and demoninator. Override the str method to display the fraction as \"numerator/demominator\""
      ],
      "metadata": {
        "id": "hNcD5BhvJW1U"
      }
    },
    {
      "source": [
        "class Fraction:\n",
        "    def __init__(self, numerator, denominator):\n",
        "        self.numerator = numerator\n",
        "        self.denominator = denominator\n",
        "\n",
        "    def __str__(self):\n",
        "        return f\"{self.numerator}/{self.denominator}\""
      ],
      "cell_type": "code",
      "metadata": {
        "id": "RHgqOr83P-2k"
      },
      "execution_count": null,
      "outputs": []
    },
    {
      "cell_type": "markdown",
      "source": [
        "10 Demonstrate operation overloding by creating a class vector and overriding the add method to add two vectors."
      ],
      "metadata": {
        "id": "8ENo_Z70QpRk"
      }
    },
    {
      "source": [
        "class vector:\n",
        "    def __init__(self, x, y):\n",
        "        self.x = x\n",
        "        self.y = y\n",
        "\n",
        "    def __add__(self, other):\n",
        "        if isinstance(other, vector):\n",
        "            return vector(self.x + other.x, self.y + other.y)\n",
        "        else:\n",
        "            raise TypeError(\"unsupported oper and type for +: vector and {}\".format(type(other)))\n",
        "\n",
        "    def __str__(self):\n",
        "        return \"({},{})\".format(self.x, self.y)"
      ],
      "cell_type": "code",
      "metadata": {
        "id": "usywSFecWChe"
      },
      "execution_count": null,
      "outputs": []
    },
    {
      "cell_type": "markdown",
      "source": [
        "11. Creat a class person with attributes name and age. Add a method greet() that prints \"HELLO, my name is {name} and i am {age} year old\"."
      ],
      "metadata": {
        "id": "oyjCx9cpWLK9"
      }
    },
    {
      "source": [
        "class Person:\n",
        "    def __init__(self, name, age):\n",
        "        self.name = name\n",
        "        self.age = age\n",
        "\n",
        "    def greet(self):\n",
        "        print(f\"Hello, my name is {self.name} and I am {self.age} years old.\")"
      ],
      "cell_type": "code",
      "metadata": {
        "id": "mrExWrzM8Opn"
      },
      "execution_count": null,
      "outputs": []
    },
    {
      "cell_type": "markdown",
      "source": [
        "12 Implement a class student with attributes name and grade. Create a methods average_grade() that compute the average of the grades"
      ],
      "metadata": {
        "id": "KiglnGu78mnY"
      }
    },
    {
      "cell_type": "code",
      "source": [
        "class student:\n",
        "    def __init__(self, name, grade):\n",
        "        self.name = name\n",
        "        self.grade = grade\n",
        "\n",
        "    def average_grade(self):\n",
        "        return sum(self.grade)/ len(self.grade)\n",
        "\n",
        "    def average_grade(self):\n",
        "        return sum(self.grade)/ len(self.grade)"
      ],
      "metadata": {
        "id": "fs3dBSf69R4x"
      },
      "execution_count": null,
      "outputs": []
    },
    {
      "cell_type": "markdown",
      "source": [
        "13 Create a class Rectangle with methods set_dimentions() to set dimentions and area() to calculate the area"
      ],
      "metadata": {
        "id": "Y0Dkrw1h-6xq"
      }
    },
    {
      "cell_type": "code",
      "source": [
        "class Rectangle:\n",
        "    def __init__(self, length, width):\n",
        "        self.length = length\n",
        "        self.width = width\n",
        "\n",
        "    def set_dimentions_(self, length, width):\n",
        "        self.length = length\n",
        "        self.width = width\n",
        "\n",
        "    def area(self):\n",
        "        return self.length*self.width\n",
        "\n",
        "    def set_dimentions_(self, length, width):\n",
        "        self.length = length\n",
        "        self.width = width\n",
        "\n",
        "    def area(self):\n",
        "        return self.length*self.width\n"
      ],
      "metadata": {
        "id": "fGT9bZIF_VzB"
      },
      "execution_count": null,
      "outputs": []
    },
    {
      "cell_type": "markdown",
      "source": [
        "14 Create a class Employee with method calculate_salary() that computes the salary based on hour worked and hourly rate. Create a derived class Manager that adds a bonus to the salary."
      ],
      "metadata": {
        "id": "RAnmOc40-Qrl"
      }
    },
    {
      "source": [
        "class Employee:\n",
        "    def __init__(self, name, hour_worked, hourly_rate):\n",
        "        self.name = name\n",
        "        self.hour_worked = hour_worked\n",
        "        self.hourly_rate = hourly_rate\n",
        "\n",
        "    def calculate_salary(self):\n",
        "        return self.hour_worked*self.hourly_rate\n",
        "\n",
        "class Manager(Employee):\n",
        "    def __init__(self, name, hour_worked, hourly_rate, bonus):\n",
        "        super().__init__(name, hour_worked, hourly_rate)\n",
        "        self.bonus = bonus\n",
        "    def calculate_salary(self):\n",
        "        base_salary = super().calculate_salary()\n",
        "        return base_salary + self.bonus"
      ],
      "cell_type": "code",
      "metadata": {
        "id": "DLKiM5LzDRXT"
      },
      "execution_count": null,
      "outputs": []
    },
    {
      "cell_type": "markdown",
      "source": [
        "15 Create a class product with attributes name, prise, and quality. Implement a method total_price() that calculates the total price of the product."
      ],
      "metadata": {
        "id": "Zi0W_mckAdFM"
      }
    },
    {
      "cell_type": "code",
      "source": [
        "from os import PRIO_PROCESS\n",
        "class product:\n",
        "    def __init__(self, name, price, quality):\n",
        "        self.name = name\n",
        "        self.price = price\n",
        "        self.quality = quality\n",
        "\n",
        "    def total_price(self):\n",
        "        return self.price*self.quality\n",
        "        self.quality = quality\n",
        "\n",
        "    def total_price(self):\n",
        "        return self.price*self.quality"
      ],
      "metadata": {
        "id": "4HQAyiCCe9g-"
      },
      "execution_count": null,
      "outputs": []
    },
    {
      "cell_type": "markdown",
      "source": [
        "16 Create a class Animal with an abstract method sound(). create two derived classes Cow and Sheep that implement the sound() method"
      ],
      "metadata": {
        "id": "UQJJp0u1e83X"
      }
    },
    {
      "source": [
        "public class AnimalDriver\n",
        "    public static void main(String[] args)\n",
        "        Dog dog = new Dog(\"woof\");\n",
        "        Cat cat = new Cat(\"meow\");\n",
        "        dog.sound();  // Would print \"woof\"\n",
        "        cat.sound();  // Would print \"meow\"\n",
        "\n"
      ],
      "cell_type": "code",
      "metadata": {
        "colab": {
          "base_uri": "https://localhost:8080/",
          "height": 106
        },
        "id": "wwffO6QGyBXd",
        "outputId": "7203de2a-84e6-48de-b516-36858cbb951d"
      },
      "execution_count": null,
      "outputs": [
        {
          "output_type": "error",
          "ename": "SyntaxError",
          "evalue": "invalid syntax (<ipython-input-29-b84d33480421>, line 1)",
          "traceback": [
            "\u001b[0;36m  File \u001b[0;32m\"<ipython-input-29-b84d33480421>\"\u001b[0;36m, line \u001b[0;32m1\u001b[0m\n\u001b[0;31m    public class AnimalDriver\u001b[0m\n\u001b[0m           ^\u001b[0m\n\u001b[0;31mSyntaxError\u001b[0m\u001b[0;31m:\u001b[0m invalid syntax\n"
          ]
        }
      ]
    },
    {
      "cell_type": "markdown",
      "source": [
        "17 Create a class book with attributes title, author, and year_published. Add a method get_book_info() that retuns a formatted string with the book's details"
      ],
      "metadata": {
        "id": "FVT-qEbBfYlh"
      }
    },
    {
      "source": [
        "class Book:\n",
        "\n",
        "    def __init__(self, title, author, year_published):\n",
        "        self.title = title\n",
        "        self.author = author\n",
        "        self.year_published = year_published\n",
        "\n",
        "    def get_book_info(self):\n",
        "        return f\"{self.title} by {self.author} ({self.year_published})\"\n",
        "        self.year_published = year_published\n",
        "\n",
        "        def get_book_info(self):\n",
        "            return f\"{self.titla} by {self.author} ({self.year_published})\""
      ],
      "cell_type": "code",
      "metadata": {
        "id": "To8qKK-hzeBw"
      },
      "execution_count": null,
      "outputs": []
    },
    {
      "cell_type": "markdown",
      "source": [
        "18 Create a class house with attributes address and price. Create a derived class Mansion that adds on attribute number_of_rooms"
      ],
      "metadata": {
        "id": "ex7tlRjahh5B"
      }
    },
    {
      "source": [
        "class house:\n",
        "    def __init__(self, house, address, price):\n",
        "        self.house = house\n",
        "        self.address = address\n",
        "        self.price = price\n",
        "\n",
        "    def get_room_info(self):\n",
        "        return f\"{self.house} by {self.address} ({self.price})\""
      ],
      "cell_type": "code",
      "metadata": {
        "id": "aEu-Z7WdE1cq"
      },
      "execution_count": null,
      "outputs": []
    }
  ]
}